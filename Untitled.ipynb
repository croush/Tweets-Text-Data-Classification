{
 "cells": [
  {
   "cell_type": "code",
   "execution_count": 51,
   "metadata": {
    "collapsed": false
   },
   "outputs": [
    {
     "name": "stderr",
     "output_type": "stream",
     "text": [
      "/Users/claireroush/anaconda/lib/python3.5/site-packages/IPython/core/interactiveshell.py:2723: DtypeWarning: Columns (0,1) have mixed types. Specify dtype option on import or set low_memory=False.\n",
      "  interactivity=interactivity, compiler=compiler, result=result)\n"
     ]
    },
    {
     "name": "stdout",
     "output_type": "stream",
     "text": [
      "done\n"
     ]
    }
   ],
   "source": [
    "import pandas\n",
    "from bs4 import BeautifulSoup\n",
    "import re\n",
    "import nltk\n",
    "import numpy\n",
    "#nltk.download()\n",
    "from nltk.corpus import stopwords\n",
    "from sklearn.feature_extraction.text import CountVectorizer\n",
    "from sklearn.naive_bayes import MultinomialNB\n",
    "from sklearn import model_selection as cv\n",
    "from sklearn.metrics import accuracy_score\n",
    "from sklearn.svm import SVC\n",
    "\n",
    "stopSet = set(stopwords.words(\"english\"))\n",
    "cleaned_data = []\n",
    "\n",
    "data=pandas.read_csv(\"twitter2.csv\", delimiter=\"\\t\", usecols=[0,1,3], dtype={\"SentimentText\": str})\n",
    "#print(data[\"review\"][0])\n",
    "#rev_soup = BeautifulSoup(data[\"review\"][0],\"lxml\")\n",
    "#letters_only = re.sub(\"[^a-zA-Z]\",\" \",rev_soup.get_text())\n",
    "#print(letters_only)\n",
    "\n",
    "#lower_case=letters_only.lower() #to lower case\n",
    "\n",
    "#words = lower_case.split() #tokenize\n",
    "\n",
    "#pass in a single review like data[\"review\"][i]\n",
    "#cited source: https://pythonprogramming.net/stop-words-nltk-tutorial/\n",
    "def clean_it(wordData):\n",
    "    minus_punctuation = re.sub(\"[^a-zA-Z]\",\" \",wordData)\n",
    "    to_lowercase = minus_punctuation.lower()\n",
    "    tokenized = to_lowercase.split()\n",
    "    #filtered = [i for i in tokenized if not i in stopSet]\n",
    "    return tokenized\n",
    "\n",
    "i = 0\n",
    "while (i<1000):\n",
    "    temp = clean_it(data[\"SentimentText\"][i])\n",
    "    temp = ' '.join(temp)\n",
    "    cleaned_data.append(temp)\n",
    "    #print(temp)\n",
    "    i=i+1\n",
    "\n",
    "#print(cleaned_data)\n",
    "vectorizer = CountVectorizer(analyzer='word')\n",
    "word_columns = vectorizer.fit_transform(cleaned_data)\n",
    "#print(word_columns)\n",
    "#convert to numpy array so we can feed it #into learning algorithm\n",
    "word_columns = word_columns.toarray()\n",
    "\n",
    "#print(vectorizer.get_feature_names())\n",
    "\n",
    "(train_data, test_data, train_target, test_target) = cv.train_test_split(word_columns, data[\"Sentiment\"][:1000], test_size = 0.2)\n",
    "\n",
    "mnb = MultinomialNB()\n",
    "#mnb.fit(train_data,train_target)\n",
    "#preds = mnb.predict(test_data)\n",
    "#print(accuracy_score(preds,test_target))\n",
    "\n",
    "print(\"done\")"
   ]
  },
  {
   "cell_type": "code",
   "execution_count": null,
   "metadata": {
    "collapsed": true
   },
   "outputs": [],
   "source": []
  }
 ],
 "metadata": {
  "anaconda-cloud": {},
  "kernelspec": {
   "display_name": "Python [Root]",
   "language": "python",
   "name": "Python [Root]"
  },
  "language_info": {
   "codemirror_mode": {
    "name": "ipython",
    "version": 3
   },
   "file_extension": ".py",
   "mimetype": "text/x-python",
   "name": "python",
   "nbconvert_exporter": "python",
   "pygments_lexer": "ipython3",
   "version": "3.5.2"
  }
 },
 "nbformat": 4,
 "nbformat_minor": 0
}
