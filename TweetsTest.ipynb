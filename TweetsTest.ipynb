{
 "cells": [
  {
   "cell_type": "code",
   "execution_count": 1,
   "metadata": {
    "collapsed": false,
    "scrolled": true
   },
   "outputs": [
    {
     "name": "stdout",
     "output_type": "stream",
     "text": [
      "starting read_csv\n",
      "done with read_csv, starting labelencoder\n",
      "done with label encoder\n",
      "starting loop\n",
      "done with loop, starting vectorizer\n",
      "done with vectorizer\n",
      "done\n"
     ]
    }
   ],
   "source": [
    "#Claire Roush\n",
    "#CS 167 - Prof Manley\n",
    "#December 12, 2016\n",
    "#Airline Tweets text data classification with SVM, PCA, Naive Bayes, and Random Forests.\n",
    "\n",
    "import pandas\n",
    "from bs4 import BeautifulSoup\n",
    "import re\n",
    "import nltk\n",
    "import numpy\n",
    "#nltk.download()\n",
    "from nltk.corpus import stopwords\n",
    "from sklearn.feature_extraction.text import CountVectorizer\n",
    "from sklearn.naive_bayes import MultinomialNB\n",
    "from sklearn import model_selection as cv\n",
    "from sklearn.metrics import accuracy_score\n",
    "from sklearn.svm import SVC\n",
    "from sklearn import preprocessing\n",
    "\n",
    "#stopSet = set(stopwords.words(\"english\"))\n",
    "cleaned_data = []\n",
    "print(\"starting read_csv\")\n",
    "data=pandas.read_csv(\"Tweets.csv\", usecols=[1,2,10])\n",
    "print(\"done with read_csv, starting labelencoder\")\n",
    "\n",
    "le_sentiment = preprocessing.LabelEncoder()\n",
    "\n",
    "#to convert into numbers\n",
    "# source: https://www.kaggle.com/c/titanic/forums/t/5379/handling-categorical-data-with-sklearn?forumMessageId=139270\n",
    "\n",
    "data.airline_sentiment = le_sentiment.fit_transform(data.airline_sentiment)\n",
    "print(\"done with label encoder\")\n",
    "\n",
    "#df_sentiment = pandas.get_dummies(data[\"airline_sentiment\"])\n",
    "#data = pandas.concat([data, df_sentiment], axis=1)\n",
    "#data = data.drop(\"airline_sentiment\",1)\n",
    "#columns to use for sentiment are now 'neutral', 'positive' and 'negative\n",
    "\n",
    "#print(data[\"text\"][0])\n",
    "#cited source: https://pythonprogramming.net/stop-words-nltk-tutorial/\n",
    "stopSet = set(stopwords.words(\"english\"))\n",
    "\n",
    "def clean_it(wordData):\n",
    "    minus_punctuation = re.sub(\"[^a-zA-Z]\",\" \",wordData)\n",
    "    to_lowercase = minus_punctuation.lower()\n",
    "    tokenized = to_lowercase.split()\n",
    "    #filtered = [i for i in tokenized if not i in stopSet]\n",
    "    return tokenized\n",
    "\n",
    "print(\"starting loop\")\n",
    "i = 0\n",
    "while (i<len(data)):\n",
    "    temp = clean_it(data[\"text\"][i])\n",
    "    temp = ' '.join(temp)\n",
    "    cleaned_data.append(temp)\n",
    "    #print(temp)\n",
    "    i=i+1\n",
    "print(\"done with loop, starting vectorizer\")\n",
    "#print(cleaned_data[0])\n",
    "\n",
    "\n",
    "vectorizer = CountVectorizer(analyzer='word')\n",
    "word_columns = vectorizer.fit_transform(cleaned_data)\n",
    "#print(word_columns)\n",
    "#convert to numpy array so we can feed it #into learning algorithm\n",
    "word_columns = word_columns.toarray()\n",
    "print(\"done with vectorizer\")\n",
    "#print(vectorizer.get_feature_names())\n",
    "\n",
    "(train_data, test_data, train_target, test_target) = cv.train_test_split(word_columns, data[\"airline_sentiment\"], test_size = 0.2)\n",
    "\n",
    "print(\"done\")"
   ]
  },
  {
   "cell_type": "code",
   "execution_count": 99,
   "metadata": {
    "collapsed": false
   },
   "outputs": [
    {
     "data": {
      "text/plain": [
       "airline_sentiment                                                 1\n",
       "airline_sentiment_confidence                                      1\n",
       "text                            @VirginAmerica What @dhepburn said.\n",
       "Name: 0, dtype: object"
      ]
     },
     "execution_count": 99,
     "metadata": {},
     "output_type": "execute_result"
    }
   ],
   "source": [
    "data.iloc[0]"
   ]
  },
  {
   "cell_type": "code",
   "execution_count": 106,
   "metadata": {
    "collapsed": false
   },
   "outputs": [
    {
     "name": "stdout",
     "output_type": "stream",
     "text": [
      "0.746926229508\n",
      "done\n"
     ]
    }
   ],
   "source": [
    "mnb = MultinomialNB()\n",
    "mnb.fit(train_data,train_target)\n",
    "preds = mnb.predict(test_data)\n",
    "print(accuracy_score(preds,test_target))\n",
    "print(\"done\")"
   ]
  },
  {
   "cell_type": "code",
   "execution_count": 107,
   "metadata": {
    "collapsed": false
   },
   "outputs": [
    {
     "name": "stdout",
     "output_type": "stream",
     "text": [
      "0.501024590164\n",
      "done\n"
     ]
    }
   ],
   "source": [
    "from sklearn.naive_bayes import GaussianNB\n",
    "\n",
    "gnb = GaussianNB()\n",
    "gnb.fit(train_data,train_target)\n",
    "preds_2 = gnb.predict(test_data)\n",
    "print(accuracy_score(preds_2,test_target))\n",
    "print(\"done\")\n"
   ]
  },
  {
   "cell_type": "code",
   "execution_count": null,
   "metadata": {
    "collapsed": false
   },
   "outputs": [
    {
     "name": "stdout",
     "output_type": "stream",
     "text": [
      "done\n"
     ]
    }
   ],
   "source": [
    "from sklearn.decomposition import PCA #new one!\n",
    "pca = PCA(n_components=400,whiten=True)\n",
    "pca.fit(train_data)\n",
    "transformed_train_data = pca.transform(train_data) \n",
    "transformed_test_data = pca.transform(test_data)\n",
    "print(\"done\")"
   ]
  },
  {
   "cell_type": "code",
   "execution_count": 97,
   "metadata": {
    "collapsed": false
   },
   "outputs": [
    {
     "name": "stdout",
     "output_type": "stream",
     "text": [
      "0.77356557377\n"
     ]
    },
    {
     "data": {
      "text/plain": [
       "{'alpha': 0.5, 'fit_prior': False}"
      ]
     },
     "execution_count": 97,
     "metadata": {},
     "output_type": "execute_result"
    }
   ],
   "source": [
    "from sklearn import grid_search\n",
    "params = {'alpha': (0,0.5,1,2,4),\n",
    "          'fit_prior': (True, False),\n",
    "         }\n",
    "mnb = grid_search.GridSearchCV(MultinomialNB(),params)\n",
    "mnb.fit(train_data,train_target)\n",
    "preds_6 = mnb.predict(test_data)\n",
    "print(accuracy_score(preds_6,test_target))\n",
    "mnb.best_params_"
   ]
  },
  {
   "cell_type": "code",
   "execution_count": 13,
   "metadata": {
    "collapsed": false
   },
   "outputs": [
    {
     "name": "stdout",
     "output_type": "stream",
     "text": [
      "0.758879781421\n",
      "done\n"
     ]
    }
   ],
   "source": [
    "from sklearn.ensemble import RandomForestClassifier\n",
    "rf = RandomForestClassifier(n_estimators=200, criterion='entropy', max_features='log2')\n",
    "rf.fit(train_data,train_target)\n",
    "rf_predictions = rf.predict(test_data)\n",
    "print(accuracy_score(rf_predictions,test_target))\n",
    "print(\"done\")"
   ]
  },
  {
   "cell_type": "code",
   "execution_count": null,
   "metadata": {
    "collapsed": false
   },
   "outputs": [],
   "source": [
    "svc = SVC(gamma=0.1)\n",
    "svc.fit(train_data,train_target)\n",
    "preds_3 = svc.predict(test_data)\n",
    "print(accuracy_score(preds_3,test_target))\n",
    "print(\"done\")\n",
    "\n"
   ]
  },
  {
   "cell_type": "code",
   "execution_count": null,
   "metadata": {
    "collapsed": true
   },
   "outputs": [],
   "source": [
    "svc = SVC(gamma=0.1)\n",
    "svc.fit(transformed_train_data,train_target)\n",
    "preds_3 = svc.predict(transformed_test_data)\n",
    "print(accuracy_score(preds_3,test_target))\n",
    "print(\"done\")\n",
    "\n",
    "\n"
   ]
  },
  {
   "cell_type": "code",
   "execution_count": null,
   "metadata": {
    "collapsed": false
   },
   "outputs": [],
   "source": [
    "from sklearn import grid_search\n",
    "params = {'C': (0.1,1,2,3),\n",
    "          'kernel': ('linear','poly','rbf'),\n",
    "          'degree': (0,1,2,3),\n",
    "          'gamma': (0.1,1),\n",
    "          'coef0': (0.1,1,2)\n",
    "         }\n",
    "svc = grid_search.GridSearchCV(SVC(),params)\n",
    "svc.fit(transformed_train_data,train_target)\n",
    "preds_6 = svc.predict(transformed_test_data)\n",
    "print(accuracy_score(preds_6,test_target))\n",
    "svc.best_params_"
   ]
  },
  {
   "cell_type": "code",
   "execution_count": 86,
   "metadata": {
    "collapsed": false
   },
   "outputs": [
    {
     "data": {
      "text/plain": [
       "<matplotlib.collections.PathCollection at 0x1774a7a90>"
      ]
     },
     "execution_count": 86,
     "metadata": {},
     "output_type": "execute_result"
    },
    {
     "data": {
      "image/png": "[encoded data removed]",
      "text/plain": [
       "<matplotlib.figure.Figure at 0x1176848d0>"
      ]
     },
     "metadata": {},
     "output_type": "display_data"
    }
   ],
   "source": [
    "\n",
    "import matplotlib.pyplot as plt\n",
    "%matplotlib inline\n",
    "\n",
    "pca = [20,  40,  60,  80,  100, 120, 140, 160,  180,  200,  400, 600, 800]\n",
    "svc = [69.8,73.4,74.5,75.3,76.6,77.4,77.7,77.8, 77.7, 78.0, 78.7, 80,  76.1]\n",
    "\n",
    "plt.ylabel('SVC Accuracy')\n",
    "plt.xlabel('PCA Components')\n",
    "plt.scatter(svc,pca)\n",
    "\n"
   ]
  },
  {
   "cell_type": "markdown",
   "metadata": {
    "collapsed": true
   },
   "source": [
    "## Text Analysis of Twitter Airline Data ##\n",
    "\n",
    "#### The Data ####\n",
    "\n",
    "I retrieved the dataset from: https://www.kaggle.com/crowdflower/twitter-airline-sentiment\n",
    "\n",
    "The dataset is comprised of 14,641 tweets regarding airlines Virgin America, United, Southwest, Delta, US Airways, and American. The task cited by the Kaggle page is to determine sentiment and to group sentiments to each airline. The end results would be a complete picture of negative, neutral, and positive sentiments on Twitter for each given airline. I'm going to simplify the task a bit to only predict sentiment. \n",
    "\n",
    "#### Clean Up ####\n",
    "\n",
    "The first thing I did while examining the data in Excel was to decide which columns I wanted to use. I decided on ```airline_sentiment```, ```airline_sentiment_confidence```, and ```text```, which are the sentiment classification, a confidence rating (weight), and the tweet body, respectively. I read in only these columns using ```usecols```. The other columns were ignored because their data didn't seem important to this project. I intended to use the weights (confidence rating), but this proved to be a bit more difficult than I originally thought. \n",
    "\n",
    "\n",
    "For classification algorithm purposes, I needed to convert the ```positive, neutral, negative``` classifications in the ```airline_sentiment``` column to integers. I did this with ```LabelEncoder```. I was then left with data that looked like:\n",
    "\n",
    "<img src=\"data.png\" width=50%, height=50%>\n",
    "\n",
    "I then removed punctuation, converted to lowercase and tokenized in my ```clean_it``` function, which was called by a loop and performed on each tweet before joining back into a string and appended to ```cleaned_data```.\n",
    "\n",
    "I used ```CountVectorizer``` to convert my appended strings in ```cleaned_data``` to a word count vector. I then converted to a numpy array and split into a training and testing set. It is now ready to test with different algorithms.. \n",
    "\n",
    "#### Naive Bayes ####\n",
    "\n",
    "The first Naive Bayes algorithm I used was Multinomial Naive Bayes. The accuracy straight \"out of the box\" for this was ```0.7634```. The second Naive Bayes algorithm I used was Gaussian Naive Bayes. The accuracy score straight out of the box for GNB was ```0.492```. I decided to do further testing with Multinomial Naive Bayes. \n",
    "\n",
    "At first I chose not to perform a Grid Search with Naive Bayes algorithms, as the algorithms are simple enough to test parameters manually. Later, though, I did use Grid Search to find the best ```alpha``` value of 0.5, as well as a ```prior_search``` of ```False```. The accuracy of MNB with ```alpha=0.5,prior_search=False``` was 77.4. The accuracy was a bit better, but still not as good as I expected. I felt that I had run out of options with MNB. With the removal of stopwords, the accuracy of Multinomial Naive Bayes fell an average of ```0.02```. \n",
    "\n",
    "I tried Gaussian Naive Bayes next with transformed data from Principal Component Analysis. With ```n_components``` from 50-800, Gaussian Naive Bayes performed at ```0.618``` accuracy at its best, with ```n_components=50```. With the removal of stopwords, Gaussian Naive Bayes accuracy dropped an overage of ```0.03```. \n",
    "\n",
    "#### Principal Component Analysis and Support Vector Machines ####\n",
    "\n",
    "I ran a series of tests to determine the best number of components for PCA according to SVC.\n",
    "\n",
    "<img src=\"PCASVC.png\" width=50%, height=50%>\n",
    "\n",
    "I found that right around ```n_components=600``` was a good area for SVC accuracy. \n",
    "\n",
    "Next, I ran a grid search for Support Vector Machines with the following parameters:\n",
    "\n",
    "```params = {'C': (0.000000001,0.000001,0.00001,0.001,0.1,0,1,2,3),\n",
    "          'kernel': ('linear','poly','rbf','sigmoid','precomputed'),\n",
    "          'degree': (0,1,2,3,4,5,6),\n",
    "          'gamma': (0.00001,0.0001,0.001,0.1,1,10),\n",
    "          'coef0': (0.0001,0.001,0.1,1,2,3,4),\n",
    "          'shrinking': (True,False),\n",
    "          'tol': (0.00000001,0.0000001,0.000001,0.00001,0.0001,0.001,0.1,1)\n",
    "         }\n",
    "```\n",
    "\n",
    "This grid search ran over 12 hours and still wasn't complete. As a result, I interrupted the kernel, manually tested different parameters and found ```gamma=0.1, C=1, kernel='rbf',degree=4,coef0=0.0``` to produce the best average accuracy of ```0.823```. \n",
    "\n",
    "\n",
    "#### Random Forest ####\n",
    "\n",
    "Out of curiosity, and after reading <b><a href=\"https://pdfs.semanticscholar.org/9b2f/84d85e5b6979bf375a2d4b15f7526597fc70.pdf\">An Improved Random Forest Classifier for Text Categorization</a></b>, I thought I'd try Random Forest on this dataset. The paper proposes to improve Random Forest algorithm by enhancing the performance of individual trees by \"a feature weighted method proposed by Amaratunga\" (1), and by watching for \"bad\" trees and cutting them out before their input distorts the ultimate prediction. This was pretty interesting to me, and made me curious as to the performance of the ScikitLearn Random Forest Classifier without the optimizations proposed in the paper.\n",
    "\n",
    "The following table shows the accuracy change dependent upon ```n_estimators```. \n",
    "\n",
    "\n",
    "| n_estimators| Accuracy   \n",
    "| ------------|:-----------:|\n",
    "| 10          | 0.752       |\n",
    "| 100         | 0.765       |\n",
    "| 200         | 0.783       |\n",
    "| 300         | 0.763       |\n",
    "\n",
    "I tried to recreate the optimizations proposed in the paper, but wasn't entirely sure how to do so. With \n",
    "*max_features='log2',min_samples_split=4,criterion='entropy',n_estimators=200*, a \"bad\" tree is perhaps less likely, though I wasn't positive how to implement the feature weighted optimization. The accuracy of this algorithm with these paramaters was ```0.76```. \n",
    "\n",
    "#### Analyzation ####\n",
    "\n",
    "\n",
    "Over all, Support Vector Machines performed best with the transformed data from Principal Component Analysis. I'm not sure why this is the case. Processing the data into word count vectors, then projecting them to a higher dimension with PCA may have made the data separable by SVM. Perhaps a decent linear separation exists in this case.\n",
    "\n",
    "Naive Bayes' performance surprised me. It makes sense to me that Multinomial Naive Bayes performed what it did, when word freqency would be used in maximum likelihood estimation. Word frequency is probably a really important part of this data, so it follows that Multinomial Naive Bayes outperformed Gaussian. However, I still expected the Naive Bayes algorithms to perform better than they did.\n",
    "\n",
    "The removal of stopwords, overall, seemed to hurt performance in all algorithms. This was interesting.\n",
    "\n",
    "Random Forest Classifier's performance was about where I expected. The article linked above proposed interesting optimizations which I tried to recreate, partially, though parameters. However, this produced accuracy scores less than impressive. Of course, the paper's optimization proposals are more than the scope of this project. \n"
   ]
  },
  {
   "cell_type": "code",
   "execution_count": null,
   "metadata": {
    "collapsed": true
   },
   "outputs": [],
   "source": []
  }
 ],
 "metadata": {
  "anaconda-cloud": {},
  "kernelspec": {
   "display_name": "Python [Root]",
   "language": "python",
   "name": "Python [Root]"
  },
  "language_info": {
   "codemirror_mode": {
    "name": "ipython",
    "version": 3
   },
   "file_extension": ".py",
   "mimetype": "text/x-python",
   "name": "python",
   "nbconvert_exporter": "python",
   "pygments_lexer": "ipython3",
   "version": "3.5.2"
  }
 },
 "nbformat": 4,
 "nbformat_minor": 0
}
